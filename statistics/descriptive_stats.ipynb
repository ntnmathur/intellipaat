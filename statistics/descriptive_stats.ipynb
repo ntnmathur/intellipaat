{
 "cells": [
  {
   "cell_type": "markdown",
   "id": "b799c6cc-f4e2-4bcd-91ac-336fa82a164e",
   "metadata": {},
   "source": [
    "# Central Tendencies\n",
    "Where is the center of the data"
   ]
  },
  {
   "cell_type": "markdown",
   "id": "e5384686-1332-45b5-b744-d47ca2a53ed4",
   "metadata": {},
   "source": [
    "-  Mean  = Average  of data\n",
    "-  Mode = Most frequent value. Can be multiple\n",
    "-  Median = Data at the center if elements arranged in ascending order. If num elements = odd, (n+1)/2. If num elements = even, avg of middle elements"
   ]
  },
  {
   "cell_type": "markdown",
   "id": "4d0a83f4-8a67-4763-a36d-d73f8500468f",
   "metadata": {},
   "source": [
    "# Variation\n",
    "How the data is spread out"
   ]
  },
  {
   "cell_type": "markdown",
   "id": "235890cc-c77b-4dbc-845a-db678669eb72",
   "metadata": {},
   "source": [
    "- Range = Diff between max and min element"
   ]
  },
  {
   "cell_type": "code",
   "execution_count": null,
   "id": "6d118fc5-4142-4298-99ab-246830c04eb7",
   "metadata": {},
   "outputs": [],
   "source": []
  }
 ],
 "metadata": {
  "kernelspec": {
   "display_name": "python312_nitin",
   "language": "python",
   "name": "python312_nitin"
  },
  "language_info": {
   "codemirror_mode": {
    "name": "ipython",
    "version": 3
   },
   "file_extension": ".py",
   "mimetype": "text/x-python",
   "name": "python",
   "nbconvert_exporter": "python",
   "pygments_lexer": "ipython3",
   "version": "3.12.6"
  }
 },
 "nbformat": 4,
 "nbformat_minor": 5
}
