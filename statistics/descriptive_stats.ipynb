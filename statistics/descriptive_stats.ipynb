{
 "cells": [
  {
   "cell_type": "markdown",
   "id": "f9992d93-7471-41c9-bcc5-855038f35911",
   "metadata": {},
   "source": [
    "# Population\n",
    "Population is the entire dataset;\n",
    "\n",
    "Sample is a subset of population which is analyzed to make inferences\n",
    "\n",
    "# Sampling\n",
    "Process of collecting data to perform analysis on\n",
    "\n",
    "- Random Sampling: Selecting samples such that every data point is equally likely to be in the sample\n",
    "- Stratified Sampling: Dividing data into layers and groups and then performing random sampling for each group\n",
    "\n"
   ]
  },
  {
   "cell_type": "markdown",
   "id": "074acf9a-1e2c-403e-9729-583eef903483",
   "metadata": {},
   "source": [
    "<img src=\"images/statistics.jpg\">"
   ]
  },
  {
   "cell_type": "markdown",
   "id": "b799c6cc-f4e2-4bcd-91ac-336fa82a164e",
   "metadata": {},
   "source": [
    "# Central Tendencies\n",
    "Where is the center of the data"
   ]
  },
  {
   "cell_type": "markdown",
   "id": "e5384686-1332-45b5-b744-d47ca2a53ed4",
   "metadata": {},
   "source": [
    "-  Mean  = Average  of data. Sum of values/ total number of values\n",
    "-  Mode = Most frequent value. Can be multiple.\n",
    "-  Median = Data at the center if elements arranged in ascending order. If num elements = odd, (n+1)/2. If num elements = even, avg of middle elements"
   ]
  },
  {
   "cell_type": "markdown",
   "id": "4d0a83f4-8a67-4763-a36d-d73f8500468f",
   "metadata": {},
   "source": [
    "# Variation\n",
    "How the data is spread out"
   ]
  },
  {
   "cell_type": "markdown",
   "id": "235890cc-c77b-4dbc-845a-db678669eb72",
   "metadata": {},
   "source": [
    "- Range = Diff between max and min element\n",
    "- Percentile = n*100%/N where n = number of data points below the data point of interest, N = Total number of data points\n",
    "- Quartiles = Divide data into 4 parts by percentiles [0-25][26-50][51-75][76-100].\n",
    "Percentile and quartiles represent segments of data.\n",
    "\n",
    "df = dataframe of values\n",
    "Q1 = 1/4 df, Q2 = 1/2 df, Q3 = 3/4 df, Q4 = df. Hence we do not consider Q4 as its the same as df. \n",
    "\n",
    "- Interquartile range = Difference between lower and upper quartile (Q3-Q1)\n",
    "\n",
    "Box plot helps plotting quartiles.\n",
    "\n",
    "\n",
    "- Standard Variance: How far a set of numbers are spread out from their average value.\n",
    "\n",
    "- Standard Deviation: Magnitude by which the members of a group differ from the mean value\n",
    "\n",
    "Standard deviation = $\\sqrt{variance}$\n",
    "\n",
    "\n",
    "$$σ^2 = \\frac{1}{n} \\sum_{i=1}^{n} (x_i - μ)^2$$\n",
    "\n",
    "σ  - Standard deviation\n",
    "\n",
    "Latex link: https://ashki23.github.io/markdown-latex.html\n",
    "\n",
    "\n"
   ]
  },
  {
   "cell_type": "markdown",
   "id": "5886df09-3144-475a-b3bb-32f446997620",
   "metadata": {},
   "source": [
    "# Correlation\n",
    "\n",
    "Change in one variable due to change in another.\n",
    "- Changing in same direction is +ve correlation else -ve"
   ]
  },
  {
   "cell_type": "code",
   "execution_count": null,
   "id": "c9a7c405-d621-415c-b146-f9a2c4b0092a",
   "metadata": {},
   "outputs": [],
   "source": []
  }
 ],
 "metadata": {
  "kernelspec": {
   "display_name": "python312_nitin",
   "language": "python",
   "name": "python312_nitin"
  },
  "language_info": {
   "codemirror_mode": {
    "name": "ipython",
    "version": 3
   },
   "file_extension": ".py",
   "mimetype": "text/x-python",
   "name": "python",
   "nbconvert_exporter": "python",
   "pygments_lexer": "ipython3",
   "version": "3.12.6"
  }
 },
 "nbformat": 4,
 "nbformat_minor": 5
}
