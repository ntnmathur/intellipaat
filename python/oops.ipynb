{
 "cells": [
  {
   "cell_type": "code",
   "execution_count": 2,
   "id": "bf6db9bc-18af-4d36-adbb-5b9b817b8fa3",
   "metadata": {},
   "outputs": [],
   "source": [
    "class Bird:\n",
    "    a=100\n",
    "    def fly(self):\n",
    "        print(\"They fly\")\n",
    "\n",
    "kiwi = Bird()\n",
    "Penguin = Bird()"
   ]
  },
  {
   "cell_type": "code",
   "execution_count": 3,
   "id": "ae3b6ec7-864d-4fd6-8591-e628b9d4dff8",
   "metadata": {},
   "outputs": [
    {
     "name": "stdout",
     "output_type": "stream",
     "text": [
      "They fly\n"
     ]
    }
   ],
   "source": [
    "kiwi.fly()"
   ]
  },
  {
   "cell_type": "code",
   "execution_count": 4,
   "id": "e2b947ea-2a66-4971-bd85-4772c850baac",
   "metadata": {},
   "outputs": [],
   "source": [
    "class Animal:\n",
    "    def __init__(self,a,b,c,d):\n",
    "        self.a = a\n",
    "        self.b = b\n",
    "        self.c = c\n",
    "        self.d = d"
   ]
  },
  {
   "cell_type": "code",
   "execution_count": null,
   "id": "2bea9269-a235-4998-8d6d-0d468a7096bd",
   "metadata": {},
   "outputs": [],
   "source": []
  }
 ],
 "metadata": {
  "kernelspec": {
   "display_name": "\"Python/Mu (mu_venv-38-20231205-120115)\"",
   "language": "python",
   "name": "mu_venv-38-20231205-120115"
  },
  "language_info": {
   "codemirror_mode": {
    "name": "ipython",
    "version": 3
   },
   "file_extension": ".py",
   "mimetype": "text/x-python",
   "name": "python",
   "nbconvert_exporter": "python",
   "pygments_lexer": "ipython3",
   "version": "3.8.12"
  }
 },
 "nbformat": 4,
 "nbformat_minor": 5
}
