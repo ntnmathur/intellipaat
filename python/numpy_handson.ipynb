{
 "cells": [
  {
   "cell_type": "code",
   "execution_count": 1,
   "id": "97078c21-87c3-457a-9579-5baa7547c53c",
   "metadata": {},
   "outputs": [],
   "source": [
    "import numpy as np"
   ]
  },
  {
   "cell_type": "code",
   "execution_count": 2,
   "id": "973e7599-211c-415b-a09e-d7a25d3c16ad",
   "metadata": {},
   "outputs": [
    {
     "name": "stdout",
     "output_type": "stream",
     "text": [
      "\n",
      "4x4 Identity Matrix:\n",
      "[[1. 0. 0. 0.]\n",
      " [0. 1. 0. 0.]\n",
      " [0. 0. 1. 0.]\n",
      " [0. 0. 0. 1.]]\n"
     ]
    }
   ],
   "source": [
    "# Create a 4x4 identity matrix\n",
    " \n",
    "identity_4x4 = np.eye(4)\n",
    "print(\"\\n4x4 Identity Matrix:\")\n",
    "print(identity_4x4)"
   ]
  },
  {
   "cell_type": "code",
   "execution_count": 3,
   "id": "3c8923a9-9b59-47aa-b620-eea7479b7d3e",
   "metadata": {},
   "outputs": [
    {
     "name": "stdout",
     "output_type": "stream",
     "text": [
      "2by2 Identity Matrix:\n",
      " [[1. 0.]\n",
      " [0. 1.]]\n",
      "3by3 Identity Matrix:\n",
      " [[1. 0. 0.]\n",
      " [0. 1. 0.]\n",
      " [0. 0. 1.]]\n",
      "4by4 Identity Matrix:\n",
      " [[1. 0. 0. 0.]\n",
      " [0. 1. 0. 0.]\n",
      " [0. 0. 1. 0.]\n",
      " [0. 0. 0. 1.]]\n"
     ]
    }
   ],
   "source": [
    "i2x2 = np.identity(2)\n",
    "print(\"2by2 Identity Matrix:\\n\", i2x2)\n",
    " \n",
    "i3x3 = np.identity(3)\n",
    "print(\"3by3 Identity Matrix:\\n\", i3x3)\n",
    " \n",
    "i4x4 = np.identity(4)\n",
    "print(\"4by4 Identity Matrix:\\n\", i4x4)"
   ]
  },
  {
   "cell_type": "code",
   "execution_count": 4,
   "id": "ff30346f-571a-4989-b64c-2e0f31a7502d",
   "metadata": {},
   "outputs": [
    {
     "data": {
      "text/plain": [
       "array([[4., 0.],\n",
       "       [0., 4.]])"
      ]
     },
     "execution_count": 4,
     "metadata": {},
     "output_type": "execute_result"
    }
   ],
   "source": [
    "i4 = 4*np.identity(2)\n",
    "i4"
   ]
  },
  {
   "cell_type": "code",
   "execution_count": 9,
   "id": "05497f01-71c2-4863-aca9-a16992f70dd4",
   "metadata": {},
   "outputs": [
    {
     "name": "stdout",
     "output_type": "stream",
     "text": [
      "[[0. 0. 0. 0. 0.]\n",
      " [0. 0. 0. 0. 0.]]\n",
      "[[0 0 0 0 0]\n",
      " [0 0 0 0 0]]\n"
     ]
    }
   ],
   "source": [
    "# Numpy array with shape 2x5 and all elements as zero\n",
    "\n",
    "# Using zeroes\n",
    "arr1 = np.zeros((2, 5))\n",
    "print(arr1)\n",
    "\n",
    "# using full\n",
    "arr2 = np.full((2, 5), 0)\n",
    "print(arr2)"
   ]
  },
  {
   "cell_type": "code",
   "execution_count": 18,
   "id": "9795c5f5-5471-43c5-b531-0ac53ef5a66b",
   "metadata": {},
   "outputs": [
    {
     "name": "stdout",
     "output_type": "stream",
     "text": [
      "[[5. 5. 5. 5. 5.]\n",
      " [5. 5. 5. 5. 5.]\n",
      " [5. 5. 5. 5. 5.]]\n",
      "[[5. 5. 5. 5. 5.]\n",
      " [5. 5. 5. 5. 5.]\n",
      " [5. 5. 5. 5. 5.]]\n",
      "[[5 5 5 5 5]\n",
      " [5 5 5 5 5]\n",
      " [5 5 5 5 5]]\n",
      "[[5 5 5 5 5]\n",
      " [5 5 5 5 5]\n",
      " [5 5 5 5 5]]\n"
     ]
    },
    {
     "data": {
      "text/plain": [
       "array([[5, 5, 5, 5, 5],\n",
       "       [5, 5, 5, 5, 5],\n",
       "       [5, 5, 5, 5, 5]])"
      ]
     },
     "execution_count": 18,
     "metadata": {},
     "output_type": "execute_result"
    }
   ],
   "source": [
    "# Shape 3x5, all elements 5\n",
    "\n",
    "# Ones\n",
    "arr = np.ones((3,5))*5\n",
    "print(arr)\n",
    "# Zeroes\n",
    "arr = np.zeros((3,5))+5\n",
    "print(arr)\n",
    "\n",
    "# Full \n",
    "arr = np.full((3,5),5)\n",
    "print(arr)\n",
    "\n",
    "# Reshape\n",
    "# Create a 1D array with 15 elements, all set to 5\n",
    "arr = np.array([5] * 15)\n",
    "# Reshape the array into a 3x5 shape\n",
    "arr = arr.reshape((3, 5))\n",
    "print(arr)\n",
    "\n",
    "np.full(15,5).reshape(3,5)"
   ]
  },
  {
   "cell_type": "code",
   "execution_count": 19,
   "id": "2b00fc9a-21ff-4a41-9f73-92196c9f3d78",
   "metadata": {},
   "outputs": [
    {
     "name": "stdout",
     "output_type": "stream",
     "text": [
      "[ 8 37 52 10 99 62 67 34 22 65 39 42 99 89 42 43 68 81 20 86 79 54 85 27\n",
      " 65]\n"
     ]
    }
   ],
   "source": [
    "# Create a NumPy array with random integers between 0-100 and sample size 25\n",
    "arr = np.random.randint(0, 101, size=25)\n",
    "print(arr)"
   ]
  },
  {
   "cell_type": "code",
   "execution_count": 22,
   "id": "18e8674f-5be2-4b93-ad79-22753e1440b2",
   "metadata": {},
   "outputs": [
    {
     "name": "stdout",
     "output_type": "stream",
     "text": [
      "[ 7.60735091 23.12082959  8.47962475 50.49746485 27.86724065 55.61322982\n",
      " 98.18451094 44.81724351 67.28353962 84.66587551 73.58292672 10.56618188\n",
      " 16.56552488 70.90224755 19.47775748 42.58671548 78.754285   50.77787485\n",
      "  3.26373619 27.08655887 96.14644483 72.48595405 34.12235324 95.37974845\n",
      " 13.5566005 ]\n"
     ]
    }
   ],
   "source": [
    "# Create a NumPy array with random float values between 0-100 and sample size 25\n",
    "arr = np.random.rand(25) * 100\n",
    "print(arr)"
   ]
  },
  {
   "cell_type": "code",
   "execution_count": 24,
   "id": "174a56a0-2e7e-428e-88e3-4bb2000ba189",
   "metadata": {},
   "outputs": [
    {
     "data": {
      "text/plain": [
       "array([33.77409347, 48.17251449, 13.95622098, 13.15806422, 50.64326494,\n",
       "       67.57238502,  8.84355819, 38.05209005, 57.93139941, 34.11111705,\n",
       "       17.0351736 , 42.30164321, 16.84247402,  6.22383616, 13.85324889,\n",
       "       31.69163582, 41.1148316 , 92.35363713, 20.79819948, 44.66278377,\n",
       "       26.25537225, 52.31454878, 63.99104552,  0.10932624, 81.64375601])"
      ]
     },
     "execution_count": 24,
     "metadata": {},
     "output_type": "execute_result"
    }
   ],
   "source": [
    "# Create a NumPy array with random float values between 0-100 and sample size 25\n",
    "np.random.uniform(0,101,size=25)"
   ]
  },
  {
   "cell_type": "code",
   "execution_count": 26,
   "id": "9d425667-4083-4d0f-8b41-f818be75e6fd",
   "metadata": {},
   "outputs": [
    {
     "name": "stdout",
     "output_type": "stream",
     "text": [
      "[[83  7 48]\n",
      " [30 40 78]]\n",
      "[[83  7]\n",
      " [48 30]\n",
      " [40 78]]\n",
      "(3, 2)\n"
     ]
    }
   ],
   "source": [
    "# Create a numpy array in the shape 2x3 with random integers in the range 0-100.\n",
    "arr = np.random.randint(0, 101, size=(2, 3))\n",
    "print(arr)\n",
    "\n",
    "# Reshape the array in the shape 3x2 and print the updated shape of the resultant array.\n",
    "# Reshape the array to 3x2\n",
    "arr = arr.reshape((3, 2))\n",
    "print(arr)\n",
    "print(arr.shape)"
   ]
  },
  {
   "cell_type": "code",
   "execution_count": 28,
   "id": "e009b63d-c219-4c3f-89d0-7980c9fb237c",
   "metadata": {},
   "outputs": [
    {
     "name": "stdout",
     "output_type": "stream",
     "text": [
      "[759 197 999 332 338 770 617 326 266 505 252 218 143 802 487 717 726 321\n",
      " 277 138 140 574 578 598 996 538  36 689 328 645 580  81 487 299 398  96\n",
      " 616  40 399 609 315 930 204 152 360 634 146 594 728 482]\n"
     ]
    }
   ],
   "source": [
    "# Create a 1D array with random integers between 0-1000, size 50, and step 2\n",
    "arr = np.random.randint(0, 1001, size=50)\n",
    "print(arr)"
   ]
  },
  {
   "cell_type": "code",
   "execution_count": null,
   "id": "e7ec1fd1-877d-4a08-974c-d23ec1ce0d2e",
   "metadata": {},
   "outputs": [],
   "source": []
  }
 ],
 "metadata": {
  "kernelspec": {
   "display_name": "Python 3 (ipykernel)",
   "language": "python",
   "name": "python3"
  },
  "language_info": {
   "codemirror_mode": {
    "name": "ipython",
    "version": 3
   },
   "file_extension": ".py",
   "mimetype": "text/x-python",
   "name": "python",
   "nbconvert_exporter": "python",
   "pygments_lexer": "ipython3",
   "version": "3.12.6"
  }
 },
 "nbformat": 4,
 "nbformat_minor": 5
}
